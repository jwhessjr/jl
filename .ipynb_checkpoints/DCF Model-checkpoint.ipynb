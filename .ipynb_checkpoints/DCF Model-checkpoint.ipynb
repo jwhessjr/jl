{
 "cells": [
  {
   "cell_type": "markdown",
   "id": "c7b6d8b7-efb1-4028-b9cf-30c556a5d7f9",
   "metadata": {},
   "source": [
    "# DCF Model - Free Cash Flow to the Firm\n",
    "\n"
   ]
  },
  {
   "cell_type": "markdown",
   "id": "1693f6cb-5e12-4c33-8400-7095bc21bc02",
   "metadata": {},
   "source": [
    "## A Discounted Cash Flow Valuation = assets in place + growth assets (Value of the business) - Debt (Value of equity)"
   ]
  },
  {
   "cell_type": "markdown",
   "id": "3dfcb797-de62-478e-b9de-047f622b2e2e",
   "metadata": {},
   "source": [
    "## The DCF valuation of a stock requires four inputs"
   ]
  },
  {
   "cell_type": "markdown",
   "id": "ab4060e8-5b4b-42d3-bac9-11731a315c4a",
   "metadata": {},
   "source": [
    "### 1. Cash Flow from existing assets after reinvestment needs and taxes"
   ]
  },
  {
   "cell_type": "markdown",
   "id": "36809330-5b9f-41f9-aaca-28f00c432ce4",
   "metadata": {
    "tags": []
   },
   "source": [
    "### Operating income (EBIT) - taxes paid - reinvestment (CAPEX - Depreciation + change to non cash working capital) OR After tax operating income * (1 - reinvestment rate)"
   ]
  },
  {
   "cell_type": "markdown",
   "id": "0ca14c39-fffe-4393-815c-09a85fad865a",
   "metadata": {},
   "source": [
    "### Reinvestment rate = (Net CAPEX + change in working capital) / after tax operating income"
   ]
  },
  {
   "cell_type": "markdown",
   "id": "5c2b0802-3461-4dc2-9ba7-8dc0d9ef5576",
   "metadata": {},
   "source": [
    "### 2. Expected growth in these assets"
   ]
  },
  {
   "cell_type": "markdown",
   "id": "1cd75bb8-a73d-4181-adae-06060fd69420",
   "metadata": {
    "jp-MarkdownHeadingCollapsed": true,
    "tags": []
   },
   "source": [
    "### Growth rate = reinvestment rate * return on capital"
   ]
  },
  {
   "cell_type": "markdown",
   "id": "6cd1cea8-6549-47e1-993c-67b5535649fd",
   "metadata": {},
   "source": [
    "### Return on Capital = EBIT * (1 - tax rate)/ (BV of debt + BV of equity - cash)"
   ]
  },
  {
   "cell_type": "markdown",
   "id": "5330d5f3-7313-43da-ab5e-0c76ae296781",
   "metadata": {
    "tags": []
   },
   "source": [
    "### 3. Cost of financing these asseets"
   ]
  },
  {
   "cell_type": "markdown",
   "id": "6fcc3832-2ecd-49d0-8337-8957d75c7b5f",
   "metadata": {},
   "source": [
    "### 4. A terminal value - the value of the firm at the end of the forecast period"
   ]
  },
  {
   "cell_type": "code",
   "execution_count": null,
   "id": "08f00cf9-7ea3-4e81-a90c-76abba9712c5",
   "metadata": {},
   "outputs": [],
   "source": []
  }
 ],
 "metadata": {
  "kernelspec": {
   "display_name": "venv",
   "language": "python",
   "name": "venv"
  },
  "language_info": {
   "codemirror_mode": {
    "name": "ipython",
    "version": 3
   },
   "file_extension": ".py",
   "mimetype": "text/x-python",
   "name": "python",
   "nbconvert_exporter": "python",
   "pygments_lexer": "ipython3",
   "version": "3.10.9"
  }
 },
 "nbformat": 4,
 "nbformat_minor": 5
}
